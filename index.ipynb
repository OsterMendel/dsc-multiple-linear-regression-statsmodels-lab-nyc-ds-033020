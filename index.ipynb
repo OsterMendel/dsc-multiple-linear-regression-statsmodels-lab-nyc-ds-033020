{
 "cells": [
  {
   "cell_type": "markdown",
   "metadata": {},
   "source": [
    "# Multiple Linear Regression in Statsmodels - Lab"
   ]
  },
  {
   "cell_type": "markdown",
   "metadata": {},
   "source": [
    "## Introduction\n",
    "In this lab, you'll practice fitting a multiple linear regression model on the Ames Housing dataset!"
   ]
  },
  {
   "cell_type": "markdown",
   "metadata": {},
   "source": [
    "## Objectives\n",
    "You will be able to:\n",
    "* Determine if it is necessary to perform normalization/standardization for a specific model or set of data\n",
    "* Use standardization/normalization on features of a dataset\n",
    "* Identify if it is necessary to perform log transformations on a set of features\n",
    "* Perform log transformations on different features of a dataset\n",
    "* Use statsmodels to fit a multiple linear regression model\n",
    "* Evaluate a linear regression model by using statistical performance metrics pertaining to overall model and specific parameters\n"
   ]
  },
  {
   "cell_type": "markdown",
   "metadata": {},
   "source": [
    "## The Ames Housing Data"
   ]
  },
  {
   "cell_type": "markdown",
   "metadata": {},
   "source": [
    "Using the specified continuous and categorical features, preprocess your data to prepare for modeling:\n",
    "* Split off and one hot encode the categorical features of interest\n",
    "* Log and scale the selected continuous features"
   ]
  },
  {
   "cell_type": "code",
   "execution_count": 1,
   "metadata": {},
   "outputs": [],
   "source": [
    "import pandas as pd\n",
    "import numpy as np\n",
    "\n",
    "ames = pd.read_csv('ames.csv')\n",
    "\n",
    "continuous = ['LotArea', '1stFlrSF', 'GrLivArea', 'SalePrice']\n",
    "categoricals = ['BldgType', 'KitchenQual', 'SaleType', 'MSZoning', 'Street', 'Neighborhood']\n"
   ]
  },
  {
   "cell_type": "markdown",
   "metadata": {},
   "source": [
    "## Continuous Features"
   ]
  },
  {
   "cell_type": "code",
   "execution_count": 2,
   "metadata": {},
   "outputs": [],
   "source": [
    "# Log transform and normalize\n",
    "log_cont = ames[continuous].apply(np.log)"
   ]
  },
  {
   "cell_type": "code",
   "execution_count": 3,
   "metadata": {},
   "outputs": [],
   "source": [
    "from sklearn import preprocessing\n",
    "\n",
    "min_max_scaler = preprocessing.MinMaxScaler()\n",
    "x_scaled = min_max_scaler.fit_transform(log_cont)\n",
    "x_scaled = pd.DataFrame(x_scaled,columns=continuous)"
   ]
  },
  {
   "cell_type": "markdown",
   "metadata": {},
   "source": [
    "## Categorical Features"
   ]
  },
  {
   "cell_type": "code",
   "execution_count": 4,
   "metadata": {},
   "outputs": [],
   "source": [
    "# One hot encode categoricals\n",
    "encoded_Cat = pd.get_dummies(ames[categoricals],drop_first=True)"
   ]
  },
  {
   "cell_type": "markdown",
   "metadata": {},
   "source": [
    "## Combine Categorical and Continuous Features"
   ]
  },
  {
   "cell_type": "code",
   "execution_count": 5,
   "metadata": {},
   "outputs": [],
   "source": [
    "# combine features into a single dataframe called preprocessed\n",
    "preprocessed = pd.concat([encoded_Cat,x_scaled],axis=1)"
   ]
  },
  {
   "cell_type": "code",
   "execution_count": 6,
   "metadata": {},
   "outputs": [],
   "source": [
    "predictors = list(preprocessed.columns)\n",
    "predictors.remove('SalePrice')"
   ]
  },
  {
   "cell_type": "markdown",
   "metadata": {},
   "source": [
    "## Run a linear model with SalePrice as the target variable in statsmodels"
   ]
  },
  {
   "cell_type": "code",
   "execution_count": 11,
   "metadata": {
    "scrolled": false
   },
   "outputs": [
    {
     "name": "stderr",
     "output_type": "stream",
     "text": [
      "/opt/conda/envs/learn-env/lib/python3.6/site-packages/numpy/core/fromnumeric.py:2495: FutureWarning: Method .ptp is deprecated and will be removed in a future version. Use numpy.ptp instead.\n",
      "  return ptp(axis=axis, out=out, **kwargs)\n"
     ]
    },
    {
     "data": {
      "text/html": [
       "<table class=\"simpletable\">\n",
       "<caption>OLS Regression Results</caption>\n",
       "<tr>\n",
       "  <th>Dep. Variable:</th>        <td>SalePrice</td>    <th>  R-squared:         </th> <td>   0.839</td>\n",
       "</tr>\n",
       "<tr>\n",
       "  <th>Model:</th>                   <td>OLS</td>       <th>  Adj. R-squared:    </th> <td>   0.834</td>\n",
       "</tr>\n",
       "<tr>\n",
       "  <th>Method:</th>             <td>Least Squares</td>  <th>  F-statistic:       </th> <td>   156.5</td>\n",
       "</tr>\n",
       "<tr>\n",
       "  <th>Date:</th>             <td>Wed, 06 May 2020</td> <th>  Prob (F-statistic):</th>  <td>  0.00</td> \n",
       "</tr>\n",
       "<tr>\n",
       "  <th>Time:</th>                 <td>15:22:33</td>     <th>  Log-Likelihood:    </th> <td>  2241.3</td>\n",
       "</tr>\n",
       "<tr>\n",
       "  <th>No. Observations:</th>      <td>  1460</td>      <th>  AIC:               </th> <td>  -4387.</td>\n",
       "</tr>\n",
       "<tr>\n",
       "  <th>Df Residuals:</th>          <td>  1412</td>      <th>  BIC:               </th> <td>  -4133.</td>\n",
       "</tr>\n",
       "<tr>\n",
       "  <th>Df Model:</th>              <td>    47</td>      <th>                     </th>     <td> </td>   \n",
       "</tr>\n",
       "<tr>\n",
       "  <th>Covariance Type:</th>      <td>nonrobust</td>    <th>                     </th>     <td> </td>   \n",
       "</tr>\n",
       "</table>\n",
       "<table class=\"simpletable\">\n",
       "<tr>\n",
       "            <td></td>              <th>coef</th>     <th>std err</th>      <th>t</th>      <th>P>|t|</th>  <th>[0.025</th>    <th>0.975]</th>  \n",
       "</tr>\n",
       "<tr>\n",
       "  <th>const</th>                <td>    0.1603</td> <td>    0.037</td> <td>    4.380</td> <td> 0.000</td> <td>    0.089</td> <td>    0.232</td>\n",
       "</tr>\n",
       "<tr>\n",
       "  <th>BldgType_2fmCon</th>      <td>   -0.0223</td> <td>    0.010</td> <td>   -2.173</td> <td> 0.030</td> <td>   -0.042</td> <td>   -0.002</td>\n",
       "</tr>\n",
       "<tr>\n",
       "  <th>BldgType_Duplex</th>      <td>   -0.0546</td> <td>    0.008</td> <td>   -6.813</td> <td> 0.000</td> <td>   -0.070</td> <td>   -0.039</td>\n",
       "</tr>\n",
       "<tr>\n",
       "  <th>BldgType_Twnhs</th>       <td>   -0.0182</td> <td>    0.012</td> <td>   -1.513</td> <td> 0.130</td> <td>   -0.042</td> <td>    0.005</td>\n",
       "</tr>\n",
       "<tr>\n",
       "  <th>BldgType_TwnhsE</th>      <td>   -0.0067</td> <td>    0.008</td> <td>   -0.858</td> <td> 0.391</td> <td>   -0.022</td> <td>    0.009</td>\n",
       "</tr>\n",
       "<tr>\n",
       "  <th>KitchenQual_Fa</th>       <td>   -0.1299</td> <td>    0.011</td> <td>  -11.315</td> <td> 0.000</td> <td>   -0.152</td> <td>   -0.107</td>\n",
       "</tr>\n",
       "<tr>\n",
       "  <th>KitchenQual_Gd</th>       <td>   -0.0496</td> <td>    0.007</td> <td>   -7.613</td> <td> 0.000</td> <td>   -0.062</td> <td>   -0.037</td>\n",
       "</tr>\n",
       "<tr>\n",
       "  <th>KitchenQual_TA</th>       <td>   -0.0870</td> <td>    0.007</td> <td>  -12.111</td> <td> 0.000</td> <td>   -0.101</td> <td>   -0.073</td>\n",
       "</tr>\n",
       "<tr>\n",
       "  <th>SaleType_CWD</th>         <td>    0.0297</td> <td>    0.028</td> <td>    1.061</td> <td> 0.289</td> <td>   -0.025</td> <td>    0.085</td>\n",
       "</tr>\n",
       "<tr>\n",
       "  <th>SaleType_Con</th>         <td>    0.0762</td> <td>    0.040</td> <td>    1.927</td> <td> 0.054</td> <td>   -0.001</td> <td>    0.154</td>\n",
       "</tr>\n",
       "<tr>\n",
       "  <th>SaleType_ConLD</th>       <td>    0.0409</td> <td>    0.020</td> <td>    2.029</td> <td> 0.043</td> <td>    0.001</td> <td>    0.081</td>\n",
       "</tr>\n",
       "<tr>\n",
       "  <th>SaleType_ConLI</th>       <td>    0.0043</td> <td>    0.025</td> <td>    0.169</td> <td> 0.865</td> <td>   -0.045</td> <td>    0.054</td>\n",
       "</tr>\n",
       "<tr>\n",
       "  <th>SaleType_ConLw</th>       <td>    0.0021</td> <td>    0.025</td> <td>    0.082</td> <td> 0.935</td> <td>   -0.048</td> <td>    0.052</td>\n",
       "</tr>\n",
       "<tr>\n",
       "  <th>SaleType_New</th>         <td>    0.0390</td> <td>    0.010</td> <td>    3.803</td> <td> 0.000</td> <td>    0.019</td> <td>    0.059</td>\n",
       "</tr>\n",
       "<tr>\n",
       "  <th>SaleType_Oth</th>         <td>    0.0153</td> <td>    0.032</td> <td>    0.480</td> <td> 0.631</td> <td>   -0.047</td> <td>    0.078</td>\n",
       "</tr>\n",
       "<tr>\n",
       "  <th>SaleType_WD</th>          <td>    0.0227</td> <td>    0.008</td> <td>    2.676</td> <td> 0.008</td> <td>    0.006</td> <td>    0.039</td>\n",
       "</tr>\n",
       "<tr>\n",
       "  <th>MSZoning_FV</th>          <td>    0.1386</td> <td>    0.025</td> <td>    5.526</td> <td> 0.000</td> <td>    0.089</td> <td>    0.188</td>\n",
       "</tr>\n",
       "<tr>\n",
       "  <th>MSZoning_RH</th>          <td>    0.1139</td> <td>    0.025</td> <td>    4.512</td> <td> 0.000</td> <td>    0.064</td> <td>    0.163</td>\n",
       "</tr>\n",
       "<tr>\n",
       "  <th>MSZoning_RL</th>          <td>    0.1294</td> <td>    0.021</td> <td>    6.151</td> <td> 0.000</td> <td>    0.088</td> <td>    0.171</td>\n",
       "</tr>\n",
       "<tr>\n",
       "  <th>MSZoning_RM</th>          <td>    0.1432</td> <td>    0.020</td> <td>    7.264</td> <td> 0.000</td> <td>    0.105</td> <td>    0.182</td>\n",
       "</tr>\n",
       "<tr>\n",
       "  <th>Street_Pave</th>          <td>   -0.0277</td> <td>    0.023</td> <td>   -1.182</td> <td> 0.237</td> <td>   -0.074</td> <td>    0.018</td>\n",
       "</tr>\n",
       "<tr>\n",
       "  <th>Neighborhood_Blueste</th> <td>    0.0069</td> <td>    0.041</td> <td>    0.167</td> <td> 0.868</td> <td>   -0.074</td> <td>    0.088</td>\n",
       "</tr>\n",
       "<tr>\n",
       "  <th>Neighborhood_BrDale</th>  <td>   -0.0601</td> <td>    0.022</td> <td>   -2.711</td> <td> 0.007</td> <td>   -0.104</td> <td>   -0.017</td>\n",
       "</tr>\n",
       "<tr>\n",
       "  <th>Neighborhood_BrkSide</th> <td>   -0.0844</td> <td>    0.018</td> <td>   -4.735</td> <td> 0.000</td> <td>   -0.119</td> <td>   -0.049</td>\n",
       "</tr>\n",
       "<tr>\n",
       "  <th>Neighborhood_ClearCr</th> <td>   -0.0273</td> <td>    0.019</td> <td>   -1.456</td> <td> 0.146</td> <td>   -0.064</td> <td>    0.009</td>\n",
       "</tr>\n",
       "<tr>\n",
       "  <th>Neighborhood_CollgCr</th> <td>   -0.0099</td> <td>    0.015</td> <td>   -0.641</td> <td> 0.522</td> <td>   -0.040</td> <td>    0.020</td>\n",
       "</tr>\n",
       "<tr>\n",
       "  <th>Neighborhood_Crawfor</th> <td>   -0.0107</td> <td>    0.017</td> <td>   -0.638</td> <td> 0.523</td> <td>   -0.044</td> <td>    0.022</td>\n",
       "</tr>\n",
       "<tr>\n",
       "  <th>Neighborhood_Edwards</th> <td>   -0.0989</td> <td>    0.016</td> <td>   -6.143</td> <td> 0.000</td> <td>   -0.131</td> <td>   -0.067</td>\n",
       "</tr>\n",
       "<tr>\n",
       "  <th>Neighborhood_Gilbert</th> <td>   -0.0127</td> <td>    0.016</td> <td>   -0.777</td> <td> 0.437</td> <td>   -0.045</td> <td>    0.019</td>\n",
       "</tr>\n",
       "<tr>\n",
       "  <th>Neighborhood_IDOTRR</th>  <td>   -0.1250</td> <td>    0.021</td> <td>   -6.014</td> <td> 0.000</td> <td>   -0.166</td> <td>   -0.084</td>\n",
       "</tr>\n",
       "<tr>\n",
       "  <th>Neighborhood_MeadowV</th> <td>   -0.0899</td> <td>    0.021</td> <td>   -4.351</td> <td> 0.000</td> <td>   -0.130</td> <td>   -0.049</td>\n",
       "</tr>\n",
       "<tr>\n",
       "  <th>Neighborhood_Mitchel</th> <td>   -0.0332</td> <td>    0.017</td> <td>   -1.944</td> <td> 0.052</td> <td>   -0.067</td> <td>    0.000</td>\n",
       "</tr>\n",
       "<tr>\n",
       "  <th>Neighborhood_NAmes</th>   <td>   -0.0573</td> <td>    0.016</td> <td>   -3.664</td> <td> 0.000</td> <td>   -0.088</td> <td>   -0.027</td>\n",
       "</tr>\n",
       "<tr>\n",
       "  <th>Neighborhood_NPkVill</th> <td>   -0.0021</td> <td>    0.023</td> <td>   -0.092</td> <td> 0.927</td> <td>   -0.046</td> <td>    0.042</td>\n",
       "</tr>\n",
       "<tr>\n",
       "  <th>Neighborhood_NWAmes</th>  <td>   -0.0348</td> <td>    0.016</td> <td>   -2.122</td> <td> 0.034</td> <td>   -0.067</td> <td>   -0.003</td>\n",
       "</tr>\n",
       "<tr>\n",
       "  <th>Neighborhood_NoRidge</th> <td>    0.0472</td> <td>    0.017</td> <td>    2.737</td> <td> 0.006</td> <td>    0.013</td> <td>    0.081</td>\n",
       "</tr>\n",
       "<tr>\n",
       "  <th>Neighborhood_NridgHt</th> <td>    0.0471</td> <td>    0.016</td> <td>    3.029</td> <td> 0.002</td> <td>    0.017</td> <td>    0.078</td>\n",
       "</tr>\n",
       "<tr>\n",
       "  <th>Neighborhood_OldTown</th> <td>   -0.1215</td> <td>    0.018</td> <td>   -6.686</td> <td> 0.000</td> <td>   -0.157</td> <td>   -0.086</td>\n",
       "</tr>\n",
       "<tr>\n",
       "  <th>Neighborhood_SWISU</th>   <td>   -0.0909</td> <td>    0.019</td> <td>   -4.845</td> <td> 0.000</td> <td>   -0.128</td> <td>   -0.054</td>\n",
       "</tr>\n",
       "<tr>\n",
       "  <th>Neighborhood_Sawyer</th>  <td>   -0.0618</td> <td>    0.017</td> <td>   -3.727</td> <td> 0.000</td> <td>   -0.094</td> <td>   -0.029</td>\n",
       "</tr>\n",
       "<tr>\n",
       "  <th>Neighborhood_SawyerW</th> <td>   -0.0303</td> <td>    0.016</td> <td>   -1.860</td> <td> 0.063</td> <td>   -0.062</td> <td>    0.002</td>\n",
       "</tr>\n",
       "<tr>\n",
       "  <th>Neighborhood_Somerst</th> <td>    0.0123</td> <td>    0.019</td> <td>    0.658</td> <td> 0.511</td> <td>   -0.024</td> <td>    0.049</td>\n",
       "</tr>\n",
       "<tr>\n",
       "  <th>Neighborhood_StoneBr</th> <td>    0.0558</td> <td>    0.017</td> <td>    3.232</td> <td> 0.001</td> <td>    0.022</td> <td>    0.090</td>\n",
       "</tr>\n",
       "<tr>\n",
       "  <th>Neighborhood_Timber</th>  <td>    0.0007</td> <td>    0.017</td> <td>    0.042</td> <td> 0.966</td> <td>   -0.033</td> <td>    0.035</td>\n",
       "</tr>\n",
       "<tr>\n",
       "  <th>Neighborhood_Veenker</th> <td>    0.0166</td> <td>    0.022</td> <td>    0.754</td> <td> 0.451</td> <td>   -0.027</td> <td>    0.060</td>\n",
       "</tr>\n",
       "<tr>\n",
       "  <th>LotArea</th>              <td>    0.1325</td> <td>    0.024</td> <td>    5.475</td> <td> 0.000</td> <td>    0.085</td> <td>    0.180</td>\n",
       "</tr>\n",
       "<tr>\n",
       "  <th>1stFlrSF</th>             <td>    0.1482</td> <td>    0.017</td> <td>    8.584</td> <td> 0.000</td> <td>    0.114</td> <td>    0.182</td>\n",
       "</tr>\n",
       "<tr>\n",
       "  <th>GrLivArea</th>            <td>    0.4150</td> <td>    0.017</td> <td>   24.114</td> <td> 0.000</td> <td>    0.381</td> <td>    0.449</td>\n",
       "</tr>\n",
       "</table>\n",
       "<table class=\"simpletable\">\n",
       "<tr>\n",
       "  <th>Omnibus:</th>       <td>289.988</td> <th>  Durbin-Watson:     </th> <td>   1.967</td> \n",
       "</tr>\n",
       "<tr>\n",
       "  <th>Prob(Omnibus):</th> <td> 0.000</td>  <th>  Jarque-Bera (JB):  </th> <td>1242.992</td> \n",
       "</tr>\n",
       "<tr>\n",
       "  <th>Skew:</th>          <td>-0.886</td>  <th>  Prob(JB):          </th> <td>1.22e-270</td>\n",
       "</tr>\n",
       "<tr>\n",
       "  <th>Kurtosis:</th>      <td> 7.159</td>  <th>  Cond. No.          </th> <td>    118.</td> \n",
       "</tr>\n",
       "</table><br/><br/>Warnings:<br/>[1] Standard Errors assume that the covariance matrix of the errors is correctly specified."
      ],
      "text/plain": [
       "<class 'statsmodels.iolib.summary.Summary'>\n",
       "\"\"\"\n",
       "                            OLS Regression Results                            \n",
       "==============================================================================\n",
       "Dep. Variable:              SalePrice   R-squared:                       0.839\n",
       "Model:                            OLS   Adj. R-squared:                  0.834\n",
       "Method:                 Least Squares   F-statistic:                     156.5\n",
       "Date:                Wed, 06 May 2020   Prob (F-statistic):               0.00\n",
       "Time:                        15:22:33   Log-Likelihood:                 2241.3\n",
       "No. Observations:                1460   AIC:                            -4387.\n",
       "Df Residuals:                    1412   BIC:                            -4133.\n",
       "Df Model:                          47                                         \n",
       "Covariance Type:            nonrobust                                         \n",
       "========================================================================================\n",
       "                           coef    std err          t      P>|t|      [0.025      0.975]\n",
       "----------------------------------------------------------------------------------------\n",
       "const                    0.1603      0.037      4.380      0.000       0.089       0.232\n",
       "BldgType_2fmCon         -0.0223      0.010     -2.173      0.030      -0.042      -0.002\n",
       "BldgType_Duplex         -0.0546      0.008     -6.813      0.000      -0.070      -0.039\n",
       "BldgType_Twnhs          -0.0182      0.012     -1.513      0.130      -0.042       0.005\n",
       "BldgType_TwnhsE         -0.0067      0.008     -0.858      0.391      -0.022       0.009\n",
       "KitchenQual_Fa          -0.1299      0.011    -11.315      0.000      -0.152      -0.107\n",
       "KitchenQual_Gd          -0.0496      0.007     -7.613      0.000      -0.062      -0.037\n",
       "KitchenQual_TA          -0.0870      0.007    -12.111      0.000      -0.101      -0.073\n",
       "SaleType_CWD             0.0297      0.028      1.061      0.289      -0.025       0.085\n",
       "SaleType_Con             0.0762      0.040      1.927      0.054      -0.001       0.154\n",
       "SaleType_ConLD           0.0409      0.020      2.029      0.043       0.001       0.081\n",
       "SaleType_ConLI           0.0043      0.025      0.169      0.865      -0.045       0.054\n",
       "SaleType_ConLw           0.0021      0.025      0.082      0.935      -0.048       0.052\n",
       "SaleType_New             0.0390      0.010      3.803      0.000       0.019       0.059\n",
       "SaleType_Oth             0.0153      0.032      0.480      0.631      -0.047       0.078\n",
       "SaleType_WD              0.0227      0.008      2.676      0.008       0.006       0.039\n",
       "MSZoning_FV              0.1386      0.025      5.526      0.000       0.089       0.188\n",
       "MSZoning_RH              0.1139      0.025      4.512      0.000       0.064       0.163\n",
       "MSZoning_RL              0.1294      0.021      6.151      0.000       0.088       0.171\n",
       "MSZoning_RM              0.1432      0.020      7.264      0.000       0.105       0.182\n",
       "Street_Pave             -0.0277      0.023     -1.182      0.237      -0.074       0.018\n",
       "Neighborhood_Blueste     0.0069      0.041      0.167      0.868      -0.074       0.088\n",
       "Neighborhood_BrDale     -0.0601      0.022     -2.711      0.007      -0.104      -0.017\n",
       "Neighborhood_BrkSide    -0.0844      0.018     -4.735      0.000      -0.119      -0.049\n",
       "Neighborhood_ClearCr    -0.0273      0.019     -1.456      0.146      -0.064       0.009\n",
       "Neighborhood_CollgCr    -0.0099      0.015     -0.641      0.522      -0.040       0.020\n",
       "Neighborhood_Crawfor    -0.0107      0.017     -0.638      0.523      -0.044       0.022\n",
       "Neighborhood_Edwards    -0.0989      0.016     -6.143      0.000      -0.131      -0.067\n",
       "Neighborhood_Gilbert    -0.0127      0.016     -0.777      0.437      -0.045       0.019\n",
       "Neighborhood_IDOTRR     -0.1250      0.021     -6.014      0.000      -0.166      -0.084\n",
       "Neighborhood_MeadowV    -0.0899      0.021     -4.351      0.000      -0.130      -0.049\n",
       "Neighborhood_Mitchel    -0.0332      0.017     -1.944      0.052      -0.067       0.000\n",
       "Neighborhood_NAmes      -0.0573      0.016     -3.664      0.000      -0.088      -0.027\n",
       "Neighborhood_NPkVill    -0.0021      0.023     -0.092      0.927      -0.046       0.042\n",
       "Neighborhood_NWAmes     -0.0348      0.016     -2.122      0.034      -0.067      -0.003\n",
       "Neighborhood_NoRidge     0.0472      0.017      2.737      0.006       0.013       0.081\n",
       "Neighborhood_NridgHt     0.0471      0.016      3.029      0.002       0.017       0.078\n",
       "Neighborhood_OldTown    -0.1215      0.018     -6.686      0.000      -0.157      -0.086\n",
       "Neighborhood_SWISU      -0.0909      0.019     -4.845      0.000      -0.128      -0.054\n",
       "Neighborhood_Sawyer     -0.0618      0.017     -3.727      0.000      -0.094      -0.029\n",
       "Neighborhood_SawyerW    -0.0303      0.016     -1.860      0.063      -0.062       0.002\n",
       "Neighborhood_Somerst     0.0123      0.019      0.658      0.511      -0.024       0.049\n",
       "Neighborhood_StoneBr     0.0558      0.017      3.232      0.001       0.022       0.090\n",
       "Neighborhood_Timber      0.0007      0.017      0.042      0.966      -0.033       0.035\n",
       "Neighborhood_Veenker     0.0166      0.022      0.754      0.451      -0.027       0.060\n",
       "LotArea                  0.1325      0.024      5.475      0.000       0.085       0.180\n",
       "1stFlrSF                 0.1482      0.017      8.584      0.000       0.114       0.182\n",
       "GrLivArea                0.4150      0.017     24.114      0.000       0.381       0.449\n",
       "==============================================================================\n",
       "Omnibus:                      289.988   Durbin-Watson:                   1.967\n",
       "Prob(Omnibus):                  0.000   Jarque-Bera (JB):             1242.992\n",
       "Skew:                          -0.886   Prob(JB):                    1.22e-270\n",
       "Kurtosis:                       7.159   Cond. No.                         118.\n",
       "==============================================================================\n",
       "\n",
       "Warnings:\n",
       "[1] Standard Errors assume that the covariance matrix of the errors is correctly specified.\n",
       "\"\"\""
      ]
     },
     "execution_count": 11,
     "metadata": {},
     "output_type": "execute_result"
    }
   ],
   "source": [
    "import statsmodels.api as sm\n",
    "X = preprocessed.drop('SalePrice', axis=1)\n",
    "y = preprocessed['SalePrice']\n",
    "X_int = sm.add_constant(X)\n",
    "sm_model = sm.OLS(y,X_int).fit()\n",
    "sm_model.summary()"
   ]
  },
  {
   "cell_type": "code",
   "execution_count": 12,
   "metadata": {},
   "outputs": [
    {
     "data": {
      "text/plain": [
       "LinearRegression(copy_X=True, fit_intercept=True, n_jobs=None, normalize=False)"
      ]
     },
     "execution_count": 12,
     "metadata": {},
     "output_type": "execute_result"
    }
   ],
   "source": [
    "# Your code here - Check that the coefficients and intercept are the same as those from Statsmodels\n",
    "from sklearn.linear_model import LinearRegression\n",
    "linreg = LinearRegression()\n",
    "linreg.fit(X, y)"
   ]
  },
  {
   "cell_type": "markdown",
   "metadata": {},
   "source": [
    "## Predict the house price given the following characteristics (before manipulation!!)\n",
    "\n",
    "Make sure to transform your variables as needed!\n",
    "\n",
    "- LotArea: 14977\n",
    "- 1stFlrSF: 1976\n",
    "- GrLivArea: 1976\n",
    "- BldgType: 1Fam\n",
    "- KitchenQual: Gd\n",
    "- SaleType: New\n",
    "- MSZoning: RL\n",
    "- Street: Pave\n",
    "- Neighborhood: NridgHt"
   ]
  },
  {
   "cell_type": "markdown",
   "metadata": {},
   "source": [
    "## Summary\n",
    "Congratulations! You pre-processed the Ames Housing data using scaling and standardization. You also fitted your first multiple linear regression model on the Ames Housing data using statsmodels and scikit-learn!"
   ]
  }
 ],
 "metadata": {
  "kernelspec": {
   "display_name": "Python 3",
   "language": "python",
   "name": "python3"
  },
  "language_info": {
   "codemirror_mode": {
    "name": "ipython",
    "version": 3
   },
   "file_extension": ".py",
   "mimetype": "text/x-python",
   "name": "python",
   "nbconvert_exporter": "python",
   "pygments_lexer": "ipython3",
   "version": "3.6.9"
  }
 },
 "nbformat": 4,
 "nbformat_minor": 2
}
