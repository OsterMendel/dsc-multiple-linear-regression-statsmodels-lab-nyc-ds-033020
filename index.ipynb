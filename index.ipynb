{
 "cells": [
  {
   "cell_type": "markdown",
   "metadata": {},
   "source": [
    "# Multiple Linear Regression in Statsmodels - Lab"
   ]
  },
  {
   "cell_type": "markdown",
   "metadata": {},
   "source": [
    "## Introduction\n",
    "In this lab, you'll practice fitting a multiple linear regression model on the Ames Housing dataset!"
   ]
  },
  {
   "cell_type": "markdown",
   "metadata": {},
   "source": [
    "## Objectives\n",
    "You will be able to:\n",
    "* Determine if it is necessary to perform normalization/standardization for a specific model or set of data\n",
    "* Use standardization/normalization on features of a dataset\n",
    "* Identify if it is necessary to perform log transformations on a set of features\n",
    "* Perform log transformations on different features of a dataset\n",
    "* Use statsmodels to fit a multiple linear regression model\n",
    "* Evaluate a linear regression model by using statistical performance metrics pertaining to overall model and specific parameters\n"
   ]
  },
  {
   "cell_type": "markdown",
   "metadata": {},
   "source": [
    "## The Ames Housing Data"
   ]
  },
  {
   "cell_type": "markdown",
   "metadata": {},
   "source": [
    "Using the specified continuous and categorical features, preprocess your data to prepare for modeling:\n",
    "* Split off and one hot encode the categorical features of interest\n",
    "* Log and scale the selected continuous features"
   ]
  },
  {
   "cell_type": "code",
   "execution_count": 1,
   "metadata": {},
   "outputs": [],
   "source": [
    "import pandas as pd\n",
    "import numpy as np\n",
    "\n",
    "ames = pd.read_csv('ames.csv')\n",
    "\n",
    "continuous = ['LotArea', '1stFlrSF', 'GrLivArea', 'SalePrice']\n",
    "categoricals = ['BldgType', 'KitchenQual', 'SaleType', 'MSZoning', 'Street', 'Neighborhood']\n"
   ]
  },
  {
   "cell_type": "markdown",
   "metadata": {},
   "source": [
    "## Continuous Features"
   ]
  },
  {
   "cell_type": "code",
   "execution_count": 2,
   "metadata": {},
   "outputs": [],
   "source": [
    "# Log transform and normalize\n",
    "log_cont = ames[continuous].apply(np.log)"
   ]
  },
  {
   "cell_type": "code",
   "execution_count": 3,
   "metadata": {},
   "outputs": [],
   "source": [
    "from sklearn import preprocessing\n",
    "\n",
    "min_max_scaler = preprocessing.MinMaxScaler()\n",
    "x_scaled = min_max_scaler.fit_transform(log_cont)\n",
    "x_scaled = pd.DataFrame(x_scaled,columns=continuous)"
   ]
  },
  {
   "cell_type": "markdown",
   "metadata": {},
   "source": [
    "## Categorical Features"
   ]
  },
  {
   "cell_type": "code",
   "execution_count": 4,
   "metadata": {},
   "outputs": [],
   "source": [
    "# One hot encode categoricals\n",
    "encoded_Cat = pd.get_dummies(ames[categoricals],drop_first=True)"
   ]
  },
  {
   "cell_type": "markdown",
   "metadata": {},
   "source": [
    "## Combine Categorical and Continuous Features"
   ]
  },
  {
   "cell_type": "code",
   "execution_count": 5,
   "metadata": {},
   "outputs": [],
   "source": [
    "# combine features into a single dataframe called preprocessed\n",
    "preprocessed = pd.concat([encoded_Cat,x_scaled],axis=1)"
   ]
  },
  {
   "cell_type": "code",
   "execution_count": 6,
   "metadata": {},
   "outputs": [],
   "source": [
    "predictors = list(preprocessed.columns)\n",
    "predictors.remove('SalePrice')"
   ]
  },
  {
   "cell_type": "markdown",
   "metadata": {},
   "source": [
    "## Run a linear model with SalePrice as the target variable in statsmodels"
   ]
  },
  {
   "cell_type": "code",
   "execution_count": 7,
   "metadata": {},
   "outputs": [],
   "source": [
    "import statsmodels.formula.api as smf"
   ]
  },
  {
   "cell_type": "code",
   "execution_count": 20,
   "metadata": {},
   "outputs": [
    {
     "ename": "SyntaxError",
     "evalue": "invalid syntax (<unknown>, line 1)",
     "output_type": "error",
     "traceback": [
      "Traceback \u001b[0;36m(most recent call last)\u001b[0m:\n",
      "  File \u001b[1;32m\"/opt/conda/envs/learn-env/lib/python3.6/site-packages/IPython/core/interactiveshell.py\"\u001b[0m, line \u001b[1;32m3326\u001b[0m, in \u001b[1;35mrun_code\u001b[0m\n    exec(code_obj, self.user_global_ns, self.user_ns)\n",
      "  File \u001b[1;32m\"<ipython-input-20-37b2b05c55ea>\"\u001b[0m, line \u001b[1;32m5\u001b[0m, in \u001b[1;35m<module>\u001b[0m\n    sm_model = smf.ols(formula,data=preprocessed).fit()\n",
      "  File \u001b[1;32m\"/opt/conda/envs/learn-env/lib/python3.6/site-packages/statsmodels/base/model.py\"\u001b[0m, line \u001b[1;32m159\u001b[0m, in \u001b[1;35mfrom_formula\u001b[0m\n    missing=missing)\n",
      "  File \u001b[1;32m\"/opt/conda/envs/learn-env/lib/python3.6/site-packages/statsmodels/formula/formulatools.py\"\u001b[0m, line \u001b[1;32m65\u001b[0m, in \u001b[1;35mhandle_formula_data\u001b[0m\n    NA_action=na_action)\n",
      "  File \u001b[1;32m\"/opt/conda/envs/learn-env/lib/python3.6/site-packages/patsy/highlevel.py\"\u001b[0m, line \u001b[1;32m310\u001b[0m, in \u001b[1;35mdmatrices\u001b[0m\n    NA_action, return_type)\n",
      "  File \u001b[1;32m\"/opt/conda/envs/learn-env/lib/python3.6/site-packages/patsy/highlevel.py\"\u001b[0m, line \u001b[1;32m165\u001b[0m, in \u001b[1;35m_do_highlevel_design\u001b[0m\n    NA_action)\n",
      "  File \u001b[1;32m\"/opt/conda/envs/learn-env/lib/python3.6/site-packages/patsy/highlevel.py\"\u001b[0m, line \u001b[1;32m70\u001b[0m, in \u001b[1;35m_try_incr_builders\u001b[0m\n    NA_action)\n",
      "  File \u001b[1;32m\"/opt/conda/envs/learn-env/lib/python3.6/site-packages/patsy/build.py\"\u001b[0m, line \u001b[1;32m689\u001b[0m, in \u001b[1;35mdesign_matrix_builders\u001b[0m\n    factor_states = _factors_memorize(all_factors, data_iter_maker, eval_env)\n",
      "  File \u001b[1;32m\"/opt/conda/envs/learn-env/lib/python3.6/site-packages/patsy/build.py\"\u001b[0m, line \u001b[1;32m354\u001b[0m, in \u001b[1;35m_factors_memorize\u001b[0m\n    which_pass = factor.memorize_passes_needed(state, eval_env)\n",
      "  File \u001b[1;32m\"/opt/conda/envs/learn-env/lib/python3.6/site-packages/patsy/eval.py\"\u001b[0m, line \u001b[1;32m474\u001b[0m, in \u001b[1;35mmemorize_passes_needed\u001b[0m\n    subset_names = [name for name in ast_names(self.code)\n",
      "  File \u001b[1;32m\"/opt/conda/envs/learn-env/lib/python3.6/site-packages/patsy/eval.py\"\u001b[0m, line \u001b[1;32m474\u001b[0m, in \u001b[1;35m<listcomp>\u001b[0m\n    subset_names = [name for name in ast_names(self.code)\n",
      "  File \u001b[1;32m\"/opt/conda/envs/learn-env/lib/python3.6/site-packages/patsy/eval.py\"\u001b[0m, line \u001b[1;32m105\u001b[0m, in \u001b[1;35mast_names\u001b[0m\n    for node in ast.walk(ast.parse(code)):\n",
      "\u001b[0;36m  File \u001b[0;32m\"/opt/conda/envs/learn-env/lib/python3.6/ast.py\"\u001b[0;36m, line \u001b[0;32m35\u001b[0;36m, in \u001b[0;35mparse\u001b[0;36m\u001b[0m\n\u001b[0;31m    return compile(source, filename, mode, PyCF_ONLY_AST)\u001b[0m\n",
      "\u001b[0;36m  File \u001b[0;32m\"<unknown>\"\u001b[0;36m, line \u001b[0;32m1\u001b[0m\n\u001b[0;31m    1 stFlrSF\u001b[0m\n\u001b[0m            ^\u001b[0m\n\u001b[0;31mSyntaxError\u001b[0m\u001b[0;31m:\u001b[0m invalid syntax\n"
     ]
    }
   ],
   "source": [
    "# Your code here\n",
    "y = 'SalePrice'\n",
    "pred_sum = '+'.join(predictors)\n",
    "formula = y+'~'+pred_sum\n",
    "sm_model = smf.ols(formula,data=preprocessed).fit()"
   ]
  },
  {
   "cell_type": "code",
   "execution_count": 7,
   "metadata": {},
   "outputs": [
    {
     "name": "stderr",
     "output_type": "stream",
     "text": [
      "/opt/conda/envs/learn-env/lib/python3.6/site-packages/numpy/core/fromnumeric.py:2495: FutureWarning: Method .ptp is deprecated and will be removed in a future version. Use numpy.ptp instead.\n",
      "  return ptp(axis=axis, out=out, **kwargs)\n"
     ]
    },
    {
     "data": {
      "text/html": [
       "<table class=\"simpletable\">\n",
       "<caption>OLS Regression Results</caption>\n",
       "<tr>\n",
       "  <th>Dep. Variable:</th>        <td>SalePrice</td>    <th>  R-squared:         </th>  <td>   1.000</td> \n",
       "</tr>\n",
       "<tr>\n",
       "  <th>Model:</th>                   <td>OLS</td>       <th>  Adj. R-squared:    </th>  <td>   1.000</td> \n",
       "</tr>\n",
       "<tr>\n",
       "  <th>Method:</th>             <td>Least Squares</td>  <th>  F-statistic:       </th>  <td>2.831e+30</td>\n",
       "</tr>\n",
       "<tr>\n",
       "  <th>Date:</th>             <td>Wed, 06 May 2020</td> <th>  Prob (F-statistic):</th>   <td>  0.00</td>  \n",
       "</tr>\n",
       "<tr>\n",
       "  <th>Time:</th>                 <td>15:21:14</td>     <th>  Log-Likelihood:    </th>  <td>  49627.</td> \n",
       "</tr>\n",
       "<tr>\n",
       "  <th>No. Observations:</th>      <td>  1460</td>      <th>  AIC:               </th> <td>-9.916e+04</td>\n",
       "</tr>\n",
       "<tr>\n",
       "  <th>Df Residuals:</th>          <td>  1411</td>      <th>  BIC:               </th> <td>-9.890e+04</td>\n",
       "</tr>\n",
       "<tr>\n",
       "  <th>Df Model:</th>              <td>    48</td>      <th>                     </th>      <td> </td>    \n",
       "</tr>\n",
       "<tr>\n",
       "  <th>Covariance Type:</th>      <td>nonrobust</td>    <th>                     </th>      <td> </td>    \n",
       "</tr>\n",
       "</table>\n",
       "<table class=\"simpletable\">\n",
       "<tr>\n",
       "            <td></td>              <th>coef</th>     <th>std err</th>      <th>t</th>      <th>P>|t|</th>  <th>[0.025</th>    <th>0.975]</th>  \n",
       "</tr>\n",
       "<tr>\n",
       "  <th>const</th>                <td>-5.829e-16</td> <td> 2.96e-16</td> <td>   -1.969</td> <td> 0.049</td> <td>-1.16e-15</td> <td>-2.19e-18</td>\n",
       "</tr>\n",
       "<tr>\n",
       "  <th>BldgType_2fmCon</th>      <td>-4.302e-16</td> <td> 8.25e-17</td> <td>   -5.214</td> <td> 0.000</td> <td>-5.92e-16</td> <td>-2.68e-16</td>\n",
       "</tr>\n",
       "<tr>\n",
       "  <th>BldgType_Duplex</th>      <td>-9.714e-17</td> <td> 6.54e-17</td> <td>   -1.484</td> <td> 0.138</td> <td>-2.26e-16</td> <td> 3.12e-17</td>\n",
       "</tr>\n",
       "<tr>\n",
       "  <th>BldgType_Twnhs</th>       <td>-6.939e-16</td> <td> 9.69e-17</td> <td>   -7.162</td> <td> 0.000</td> <td>-8.84e-16</td> <td>-5.04e-16</td>\n",
       "</tr>\n",
       "<tr>\n",
       "  <th>BldgType_TwnhsE</th>      <td>-4.337e-16</td> <td> 6.23e-17</td> <td>   -6.964</td> <td> 0.000</td> <td>-5.56e-16</td> <td>-3.12e-16</td>\n",
       "</tr>\n",
       "<tr>\n",
       "  <th>KitchenQual_Fa</th>       <td>-2.559e-16</td> <td> 9.63e-17</td> <td>   -2.657</td> <td> 0.008</td> <td>-4.45e-16</td> <td>-6.69e-17</td>\n",
       "</tr>\n",
       "<tr>\n",
       "  <th>KitchenQual_Gd</th>       <td>-7.286e-17</td> <td> 5.34e-17</td> <td>   -1.363</td> <td> 0.173</td> <td>-1.78e-16</td> <td>  3.2e-17</td>\n",
       "</tr>\n",
       "<tr>\n",
       "  <th>KitchenQual_TA</th>       <td>-1.475e-16</td> <td> 6.06e-17</td> <td>   -2.433</td> <td> 0.015</td> <td>-2.66e-16</td> <td>-2.86e-17</td>\n",
       "</tr>\n",
       "<tr>\n",
       "  <th>SaleType_CWD</th>         <td> 4.718e-16</td> <td> 2.25e-16</td> <td>    2.099</td> <td> 0.036</td> <td>  3.1e-17</td> <td> 9.13e-16</td>\n",
       "</tr>\n",
       "<tr>\n",
       "  <th>SaleType_Con</th>         <td> 3.331e-16</td> <td> 3.18e-16</td> <td>    1.048</td> <td> 0.295</td> <td> -2.9e-16</td> <td> 9.57e-16</td>\n",
       "</tr>\n",
       "<tr>\n",
       "  <th>SaleType_ConLD</th>       <td> 3.469e-16</td> <td> 1.62e-16</td> <td>    2.137</td> <td> 0.033</td> <td> 2.85e-17</td> <td> 6.65e-16</td>\n",
       "</tr>\n",
       "<tr>\n",
       "  <th>SaleType_ConLI</th>       <td>-1.249e-16</td> <td> 2.04e-16</td> <td>   -0.613</td> <td> 0.540</td> <td>-5.25e-16</td> <td> 2.75e-16</td>\n",
       "</tr>\n",
       "<tr>\n",
       "  <th>SaleType_ConLw</th>       <td> 2.914e-16</td> <td> 2.04e-16</td> <td>    1.426</td> <td> 0.154</td> <td>-1.09e-16</td> <td> 6.92e-16</td>\n",
       "</tr>\n",
       "<tr>\n",
       "  <th>SaleType_New</th>         <td> 1.527e-16</td> <td> 8.27e-17</td> <td>    1.845</td> <td> 0.065</td> <td>-9.61e-18</td> <td> 3.15e-16</td>\n",
       "</tr>\n",
       "<tr>\n",
       "  <th>SaleType_Oth</th>         <td> 4.857e-16</td> <td> 2.56e-16</td> <td>    1.896</td> <td> 0.058</td> <td>-1.68e-17</td> <td> 9.88e-16</td>\n",
       "</tr>\n",
       "<tr>\n",
       "  <th>SaleType_WD</th>          <td> 7.841e-16</td> <td> 6.83e-17</td> <td>   11.472</td> <td> 0.000</td> <td>  6.5e-16</td> <td> 9.18e-16</td>\n",
       "</tr>\n",
       "<tr>\n",
       "  <th>MSZoning_FV</th>          <td>-9.021e-16</td> <td> 2.04e-16</td> <td>   -4.430</td> <td> 0.000</td> <td> -1.3e-15</td> <td>-5.03e-16</td>\n",
       "</tr>\n",
       "<tr>\n",
       "  <th>MSZoning_RH</th>          <td>-7.425e-16</td> <td> 2.04e-16</td> <td>   -3.635</td> <td> 0.000</td> <td>-1.14e-15</td> <td>-3.42e-16</td>\n",
       "</tr>\n",
       "<tr>\n",
       "  <th>MSZoning_RL</th>          <td>-3.712e-16</td> <td> 1.71e-16</td> <td>   -2.168</td> <td> 0.030</td> <td>-7.07e-16</td> <td>-3.53e-17</td>\n",
       "</tr>\n",
       "<tr>\n",
       "  <th>MSZoning_RM</th>          <td>-2.914e-16</td> <td> 1.61e-16</td> <td>   -1.807</td> <td> 0.071</td> <td>-6.08e-16</td> <td>  2.5e-17</td>\n",
       "</tr>\n",
       "<tr>\n",
       "  <th>Street_Pave</th>          <td>   3.4e-16</td> <td> 1.88e-16</td> <td>    1.806</td> <td> 0.071</td> <td>-2.94e-17</td> <td> 7.09e-16</td>\n",
       "</tr>\n",
       "<tr>\n",
       "  <th>Neighborhood_Blueste</th> <td> 3.816e-16</td> <td> 3.32e-16</td> <td>    1.150</td> <td> 0.250</td> <td>-2.69e-16</td> <td> 1.03e-15</td>\n",
       "</tr>\n",
       "<tr>\n",
       "  <th>Neighborhood_BrDale</th>  <td> 6.245e-16</td> <td> 1.79e-16</td> <td>    3.497</td> <td> 0.000</td> <td> 2.74e-16</td> <td> 9.75e-16</td>\n",
       "</tr>\n",
       "<tr>\n",
       "  <th>Neighborhood_BrkSide</th> <td> 4.233e-16</td> <td> 1.44e-16</td> <td>    2.932</td> <td> 0.003</td> <td>  1.4e-16</td> <td> 7.06e-16</td>\n",
       "</tr>\n",
       "<tr>\n",
       "  <th>Neighborhood_ClearCr</th> <td> 6.939e-16</td> <td> 1.51e-16</td> <td>    4.602</td> <td> 0.000</td> <td> 3.98e-16</td> <td>  9.9e-16</td>\n",
       "</tr>\n",
       "<tr>\n",
       "  <th>Neighborhood_CollgCr</th> <td>  4.58e-16</td> <td> 1.24e-16</td> <td>    3.697</td> <td> 0.000</td> <td> 2.15e-16</td> <td> 7.01e-16</td>\n",
       "</tr>\n",
       "<tr>\n",
       "  <th>Neighborhood_Crawfor</th> <td>-5.551e-17</td> <td> 1.35e-16</td> <td>   -0.412</td> <td> 0.680</td> <td> -3.2e-16</td> <td> 2.09e-16</td>\n",
       "</tr>\n",
       "<tr>\n",
       "  <th>Neighborhood_Edwards</th> <td> 1.665e-16</td> <td> 1.31e-16</td> <td>    1.271</td> <td> 0.204</td> <td>-9.05e-17</td> <td> 4.24e-16</td>\n",
       "</tr>\n",
       "<tr>\n",
       "  <th>Neighborhood_Gilbert</th> <td> 2.359e-16</td> <td> 1.32e-16</td> <td>    1.791</td> <td> 0.073</td> <td>-2.24e-17</td> <td> 4.94e-16</td>\n",
       "</tr>\n",
       "<tr>\n",
       "  <th>Neighborhood_IDOTRR</th>  <td> 3.608e-16</td> <td> 1.69e-16</td> <td>    2.135</td> <td> 0.033</td> <td> 2.92e-17</td> <td> 6.92e-16</td>\n",
       "</tr>\n",
       "<tr>\n",
       "  <th>Neighborhood_MeadowV</th> <td>-5.551e-17</td> <td> 1.67e-16</td> <td>   -0.332</td> <td> 0.740</td> <td>-3.83e-16</td> <td> 2.72e-16</td>\n",
       "</tr>\n",
       "<tr>\n",
       "  <th>Neighborhood_Mitchel</th> <td> 3.331e-16</td> <td> 1.37e-16</td> <td>    2.427</td> <td> 0.015</td> <td> 6.38e-17</td> <td> 6.02e-16</td>\n",
       "</tr>\n",
       "<tr>\n",
       "  <th>Neighborhood_NAmes</th>   <td> 4.441e-16</td> <td> 1.26e-16</td> <td>    3.521</td> <td> 0.000</td> <td> 1.97e-16</td> <td> 6.91e-16</td>\n",
       "</tr>\n",
       "<tr>\n",
       "  <th>Neighborhood_NPkVill</th> <td> 6.939e-18</td> <td> 1.81e-16</td> <td>    0.038</td> <td> 0.969</td> <td>-3.48e-16</td> <td> 3.62e-16</td>\n",
       "</tr>\n",
       "<tr>\n",
       "  <th>Neighborhood_NWAmes</th>  <td> 2.776e-17</td> <td> 1.32e-16</td> <td>    0.211</td> <td> 0.833</td> <td>-2.31e-16</td> <td> 2.86e-16</td>\n",
       "</tr>\n",
       "<tr>\n",
       "  <th>Neighborhood_NoRidge</th> <td> 3.053e-16</td> <td> 1.39e-16</td> <td>    2.199</td> <td> 0.028</td> <td>  3.3e-17</td> <td> 5.78e-16</td>\n",
       "</tr>\n",
       "<tr>\n",
       "  <th>Neighborhood_NridgHt</th> <td>  1.11e-16</td> <td> 1.25e-16</td> <td>    0.886</td> <td> 0.376</td> <td>-1.35e-16</td> <td> 3.57e-16</td>\n",
       "</tr>\n",
       "<tr>\n",
       "  <th>Neighborhood_OldTown</th> <td> 6.106e-16</td> <td> 1.48e-16</td> <td>    4.119</td> <td> 0.000</td> <td>  3.2e-16</td> <td> 9.01e-16</td>\n",
       "</tr>\n",
       "<tr>\n",
       "  <th>Neighborhood_SWISU</th>   <td>-3.053e-16</td> <td> 1.52e-16</td> <td>   -2.009</td> <td> 0.045</td> <td>-6.03e-16</td> <td>-7.16e-18</td>\n",
       "</tr>\n",
       "<tr>\n",
       "  <th>Neighborhood_Sawyer</th>  <td> 3.608e-16</td> <td> 1.34e-16</td> <td>    2.697</td> <td> 0.007</td> <td> 9.84e-17</td> <td> 6.23e-16</td>\n",
       "</tr>\n",
       "<tr>\n",
       "  <th>Neighborhood_SawyerW</th> <td> 5.967e-16</td> <td> 1.31e-16</td> <td>    4.556</td> <td> 0.000</td> <td>  3.4e-16</td> <td> 8.54e-16</td>\n",
       "</tr>\n",
       "<tr>\n",
       "  <th>Neighborhood_Somerst</th> <td> 5.135e-16</td> <td> 1.51e-16</td> <td>    3.404</td> <td> 0.001</td> <td> 2.18e-16</td> <td> 8.09e-16</td>\n",
       "</tr>\n",
       "<tr>\n",
       "  <th>Neighborhood_StoneBr</th> <td>  2.22e-16</td> <td> 1.39e-16</td> <td>    1.595</td> <td> 0.111</td> <td> -5.1e-17</td> <td> 4.95e-16</td>\n",
       "</tr>\n",
       "<tr>\n",
       "  <th>Neighborhood_Timber</th>  <td>         0</td> <td>  1.4e-16</td> <td>        0</td> <td> 1.000</td> <td>-2.74e-16</td> <td> 2.74e-16</td>\n",
       "</tr>\n",
       "<tr>\n",
       "  <th>Neighborhood_Veenker</th> <td>-5.551e-17</td> <td> 1.77e-16</td> <td>   -0.314</td> <td> 0.753</td> <td>-4.02e-16</td> <td> 2.91e-16</td>\n",
       "</tr>\n",
       "<tr>\n",
       "  <th>LotArea</th>              <td> 9.714e-17</td> <td> 1.96e-16</td> <td>    0.494</td> <td> 0.621</td> <td>-2.88e-16</td> <td> 4.83e-16</td>\n",
       "</tr>\n",
       "<tr>\n",
       "  <th>1stFlrSF</th>             <td>-2.984e-16</td> <td> 1.42e-16</td> <td>   -2.098</td> <td> 0.036</td> <td>-5.77e-16</td> <td>-1.94e-17</td>\n",
       "</tr>\n",
       "<tr>\n",
       "  <th>GrLivArea</th>            <td> 3.886e-16</td> <td> 1.64e-16</td> <td>    2.366</td> <td> 0.018</td> <td> 6.64e-17</td> <td> 7.11e-16</td>\n",
       "</tr>\n",
       "<tr>\n",
       "  <th>SalePrice</th>            <td>    1.0000</td> <td> 2.14e-16</td> <td> 4.68e+15</td> <td> 0.000</td> <td>    1.000</td> <td>    1.000</td>\n",
       "</tr>\n",
       "</table>\n",
       "<table class=\"simpletable\">\n",
       "<tr>\n",
       "  <th>Omnibus:</th>       <td>161.427</td> <th>  Durbin-Watson:     </th> <td>   1.913</td>\n",
       "</tr>\n",
       "<tr>\n",
       "  <th>Prob(Omnibus):</th> <td> 0.000</td>  <th>  Jarque-Bera (JB):  </th> <td> 215.438</td>\n",
       "</tr>\n",
       "<tr>\n",
       "  <th>Skew:</th>          <td> 0.922</td>  <th>  Prob(JB):          </th> <td>1.65e-47</td>\n",
       "</tr>\n",
       "<tr>\n",
       "  <th>Kurtosis:</th>      <td> 3.378</td>  <th>  Cond. No.          </th> <td>    121.</td>\n",
       "</tr>\n",
       "</table><br/><br/>Warnings:<br/>[1] Standard Errors assume that the covariance matrix of the errors is correctly specified."
      ],
      "text/plain": [
       "<class 'statsmodels.iolib.summary.Summary'>\n",
       "\"\"\"\n",
       "                            OLS Regression Results                            \n",
       "==============================================================================\n",
       "Dep. Variable:              SalePrice   R-squared:                       1.000\n",
       "Model:                            OLS   Adj. R-squared:                  1.000\n",
       "Method:                 Least Squares   F-statistic:                 2.831e+30\n",
       "Date:                Wed, 06 May 2020   Prob (F-statistic):               0.00\n",
       "Time:                        15:21:14   Log-Likelihood:                 49627.\n",
       "No. Observations:                1460   AIC:                        -9.916e+04\n",
       "Df Residuals:                    1411   BIC:                        -9.890e+04\n",
       "Df Model:                          48                                         \n",
       "Covariance Type:            nonrobust                                         \n",
       "========================================================================================\n",
       "                           coef    std err          t      P>|t|      [0.025      0.975]\n",
       "----------------------------------------------------------------------------------------\n",
       "const                -5.829e-16   2.96e-16     -1.969      0.049   -1.16e-15   -2.19e-18\n",
       "BldgType_2fmCon      -4.302e-16   8.25e-17     -5.214      0.000   -5.92e-16   -2.68e-16\n",
       "BldgType_Duplex      -9.714e-17   6.54e-17     -1.484      0.138   -2.26e-16    3.12e-17\n",
       "BldgType_Twnhs       -6.939e-16   9.69e-17     -7.162      0.000   -8.84e-16   -5.04e-16\n",
       "BldgType_TwnhsE      -4.337e-16   6.23e-17     -6.964      0.000   -5.56e-16   -3.12e-16\n",
       "KitchenQual_Fa       -2.559e-16   9.63e-17     -2.657      0.008   -4.45e-16   -6.69e-17\n",
       "KitchenQual_Gd       -7.286e-17   5.34e-17     -1.363      0.173   -1.78e-16     3.2e-17\n",
       "KitchenQual_TA       -1.475e-16   6.06e-17     -2.433      0.015   -2.66e-16   -2.86e-17\n",
       "SaleType_CWD          4.718e-16   2.25e-16      2.099      0.036     3.1e-17    9.13e-16\n",
       "SaleType_Con          3.331e-16   3.18e-16      1.048      0.295    -2.9e-16    9.57e-16\n",
       "SaleType_ConLD        3.469e-16   1.62e-16      2.137      0.033    2.85e-17    6.65e-16\n",
       "SaleType_ConLI       -1.249e-16   2.04e-16     -0.613      0.540   -5.25e-16    2.75e-16\n",
       "SaleType_ConLw        2.914e-16   2.04e-16      1.426      0.154   -1.09e-16    6.92e-16\n",
       "SaleType_New          1.527e-16   8.27e-17      1.845      0.065   -9.61e-18    3.15e-16\n",
       "SaleType_Oth          4.857e-16   2.56e-16      1.896      0.058   -1.68e-17    9.88e-16\n",
       "SaleType_WD           7.841e-16   6.83e-17     11.472      0.000     6.5e-16    9.18e-16\n",
       "MSZoning_FV          -9.021e-16   2.04e-16     -4.430      0.000    -1.3e-15   -5.03e-16\n",
       "MSZoning_RH          -7.425e-16   2.04e-16     -3.635      0.000   -1.14e-15   -3.42e-16\n",
       "MSZoning_RL          -3.712e-16   1.71e-16     -2.168      0.030   -7.07e-16   -3.53e-17\n",
       "MSZoning_RM          -2.914e-16   1.61e-16     -1.807      0.071   -6.08e-16     2.5e-17\n",
       "Street_Pave             3.4e-16   1.88e-16      1.806      0.071   -2.94e-17    7.09e-16\n",
       "Neighborhood_Blueste  3.816e-16   3.32e-16      1.150      0.250   -2.69e-16    1.03e-15\n",
       "Neighborhood_BrDale   6.245e-16   1.79e-16      3.497      0.000    2.74e-16    9.75e-16\n",
       "Neighborhood_BrkSide  4.233e-16   1.44e-16      2.932      0.003     1.4e-16    7.06e-16\n",
       "Neighborhood_ClearCr  6.939e-16   1.51e-16      4.602      0.000    3.98e-16     9.9e-16\n",
       "Neighborhood_CollgCr   4.58e-16   1.24e-16      3.697      0.000    2.15e-16    7.01e-16\n",
       "Neighborhood_Crawfor -5.551e-17   1.35e-16     -0.412      0.680    -3.2e-16    2.09e-16\n",
       "Neighborhood_Edwards  1.665e-16   1.31e-16      1.271      0.204   -9.05e-17    4.24e-16\n",
       "Neighborhood_Gilbert  2.359e-16   1.32e-16      1.791      0.073   -2.24e-17    4.94e-16\n",
       "Neighborhood_IDOTRR   3.608e-16   1.69e-16      2.135      0.033    2.92e-17    6.92e-16\n",
       "Neighborhood_MeadowV -5.551e-17   1.67e-16     -0.332      0.740   -3.83e-16    2.72e-16\n",
       "Neighborhood_Mitchel  3.331e-16   1.37e-16      2.427      0.015    6.38e-17    6.02e-16\n",
       "Neighborhood_NAmes    4.441e-16   1.26e-16      3.521      0.000    1.97e-16    6.91e-16\n",
       "Neighborhood_NPkVill  6.939e-18   1.81e-16      0.038      0.969   -3.48e-16    3.62e-16\n",
       "Neighborhood_NWAmes   2.776e-17   1.32e-16      0.211      0.833   -2.31e-16    2.86e-16\n",
       "Neighborhood_NoRidge  3.053e-16   1.39e-16      2.199      0.028     3.3e-17    5.78e-16\n",
       "Neighborhood_NridgHt   1.11e-16   1.25e-16      0.886      0.376   -1.35e-16    3.57e-16\n",
       "Neighborhood_OldTown  6.106e-16   1.48e-16      4.119      0.000     3.2e-16    9.01e-16\n",
       "Neighborhood_SWISU   -3.053e-16   1.52e-16     -2.009      0.045   -6.03e-16   -7.16e-18\n",
       "Neighborhood_Sawyer   3.608e-16   1.34e-16      2.697      0.007    9.84e-17    6.23e-16\n",
       "Neighborhood_SawyerW  5.967e-16   1.31e-16      4.556      0.000     3.4e-16    8.54e-16\n",
       "Neighborhood_Somerst  5.135e-16   1.51e-16      3.404      0.001    2.18e-16    8.09e-16\n",
       "Neighborhood_StoneBr   2.22e-16   1.39e-16      1.595      0.111    -5.1e-17    4.95e-16\n",
       "Neighborhood_Timber           0    1.4e-16          0      1.000   -2.74e-16    2.74e-16\n",
       "Neighborhood_Veenker -5.551e-17   1.77e-16     -0.314      0.753   -4.02e-16    2.91e-16\n",
       "LotArea               9.714e-17   1.96e-16      0.494      0.621   -2.88e-16    4.83e-16\n",
       "1stFlrSF             -2.984e-16   1.42e-16     -2.098      0.036   -5.77e-16   -1.94e-17\n",
       "GrLivArea             3.886e-16   1.64e-16      2.366      0.018    6.64e-17    7.11e-16\n",
       "SalePrice                1.0000   2.14e-16   4.68e+15      0.000       1.000       1.000\n",
       "==============================================================================\n",
       "Omnibus:                      161.427   Durbin-Watson:                   1.913\n",
       "Prob(Omnibus):                  0.000   Jarque-Bera (JB):              215.438\n",
       "Skew:                           0.922   Prob(JB):                     1.65e-47\n",
       "Kurtosis:                       3.378   Cond. No.                         121.\n",
       "==============================================================================\n",
       "\n",
       "Warnings:\n",
       "[1] Standard Errors assume that the covariance matrix of the errors is correctly specified.\n",
       "\"\"\""
      ]
     },
     "execution_count": 7,
     "metadata": {},
     "output_type": "execute_result"
    }
   ],
   "source": [
    "import statsmodels.api as sm\n",
    "X = preprocessed.drop('SalePrice', axis=1)\n",
    "y = preprocessed['SalePrice']\n",
    "X_int = sm.add_constant(preprocessed)\n",
    "sm_model = sm.OLS(y,X_int).fit()\n",
    "sm_model.summary()"
   ]
  },
  {
   "cell_type": "markdown",
   "metadata": {},
   "source": [
    "## Run the same model in scikit-learn"
   ]
  },
  {
   "cell_type": "code",
   "execution_count": null,
   "metadata": {},
   "outputs": [],
   "source": [
    "# Your code here - Check that the coefficients and intercept are the same as those from Statsmodels"
   ]
  },
  {
   "cell_type": "markdown",
   "metadata": {},
   "source": [
    "## Predict the house price given the following characteristics (before manipulation!!)\n",
    "\n",
    "Make sure to transform your variables as needed!\n",
    "\n",
    "- LotArea: 14977\n",
    "- 1stFlrSF: 1976\n",
    "- GrLivArea: 1976\n",
    "- BldgType: 1Fam\n",
    "- KitchenQual: Gd\n",
    "- SaleType: New\n",
    "- MSZoning: RL\n",
    "- Street: Pave\n",
    "- Neighborhood: NridgHt"
   ]
  },
  {
   "cell_type": "markdown",
   "metadata": {},
   "source": [
    "## Summary\n",
    "Congratulations! You pre-processed the Ames Housing data using scaling and standardization. You also fitted your first multiple linear regression model on the Ames Housing data using statsmodels and scikit-learn!"
   ]
  }
 ],
 "metadata": {
  "kernelspec": {
   "display_name": "Python 3",
   "language": "python",
   "name": "python3"
  },
  "language_info": {
   "codemirror_mode": {
    "name": "ipython",
    "version": 3
   },
   "file_extension": ".py",
   "mimetype": "text/x-python",
   "name": "python",
   "nbconvert_exporter": "python",
   "pygments_lexer": "ipython3",
   "version": "3.6.9"
  }
 },
 "nbformat": 4,
 "nbformat_minor": 2
}
